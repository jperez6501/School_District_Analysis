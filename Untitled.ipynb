{
 "cells": [
  {
   "cell_type": "code",
   "execution_count": null,
   "id": "d72c7c15",
   "metadata": {},
   "outputs": [],
   "source": [
    "# Dependencies\n",
    "import pandas as pd"
   ]
  },
  {
   "cell_type": "code",
   "execution_count": null,
   "id": "71ce6c60",
   "metadata": {},
   "outputs": [],
   "source": [
    "# Read in the following data into a DataFrame.\n",
    "raw_data_info = {\n",
    "    \"customer_id\": [112, 403, 999, 543, 123],\n",
    "    \"name\": [\"John\", \"Kelly\", \"Sam\", \"April\", \"Bobbo\"],\n",
    "    \"email\": [\"jman@gmail\", \"kelly@aol.com\", \"sports@school.edu\", \"April@yahoo.com\", \"HeyImBobbo@msn.com\"]}\n"
   ]
  },
  {
   "cell_type": "code",
   "execution_count": null,
   "id": "5ec343ed",
   "metadata": {},
   "outputs": [],
   "source": [
    "# Read in the following data into a DataFrame.\n",
    "raw_data_items = {\n",
    "    \"customer_id\": [403, 112, 543, 999, 654],\n",
    "    \"item\": [\"soda\", \"chips\", \"TV\", \"Laptop\", \"Cooler\"],\n",
    "    \"cost\": [3.00, 4.50, 600, 900, 150]}\n",
    "items_df =pd.DataFrame(raw_data_items,columns =[\"\"])"
   ]
  },
  {
   "cell_type": "code",
   "execution_count": null,
   "id": "42abef3b",
   "metadata": {},
   "outputs": [],
   "source": [
    "# Merge the two dataframes using an inner join (default)"
   ]
  },
  {
   "cell_type": "code",
   "execution_count": null,
   "id": "c8ca12fa",
   "metadata": {},
   "outputs": [],
   "source": [
    "# Merge two dataframes using an outer join"
   ]
  },
  {
   "cell_type": "code",
   "execution_count": null,
   "id": "f8870c69",
   "metadata": {},
   "outputs": [],
   "source": [
    "# Merge two dataframes using a left join"
   ]
  },
  {
   "cell_type": "code",
   "execution_count": null,
   "id": "a3d6a590",
   "metadata": {},
   "outputs": [],
   "source": [
    "#  Import the csv files and create DataFrames.\n",
    "bitcoin_csv = \"Resources/bitcoin_cash_price.csv\"\n",
    "dash_csv = \"Resources/dash_price.csv\"\n",
    "\n"
   ]
  },
  {
   "cell_type": "code",
   "execution_count": null,
   "id": "1ec9d5fb",
   "metadata": {},
   "outputs": [],
   "source": []
  },
  {
   "cell_type": "code",
   "execution_count": null,
   "id": "61098460",
   "metadata": {},
   "outputs": [],
   "source": []
  },
  {
   "cell_type": "code",
   "execution_count": null,
   "id": "b93cdb54",
   "metadata": {},
   "outputs": [],
   "source": [
    "# Merge the two DataFrames together based on the Dates they share"
   ]
  },
  {
   "cell_type": "code",
   "execution_count": null,
   "id": "e5e0914c",
   "metadata": {},
   "outputs": [],
   "source": [
    "# Rename columns so that they are differentiated"
   ]
  },
  {
   "cell_type": "code",
   "execution_count": null,
   "id": "b34eeb7c",
   "metadata": {},
   "outputs": [],
   "source": [
    "# Alternatively you can set your suffixes using suffixes=(\"_Bitcoin\", \"_Dash\") \n",
    "# in the merge funciton when the merge occurs."
   ]
  }
 ],
 "metadata": {
  "kernelspec": {
   "display_name": "PythonData",
   "language": "python",
   "name": "pythondata"
  },
  "language_info": {
   "codemirror_mode": {
    "name": "ipython",
    "version": 3
   },
   "file_extension": ".py",
   "mimetype": "text/x-python",
   "name": "python",
   "nbconvert_exporter": "python",
   "pygments_lexer": "ipython3",
   "version": "3.9.7"
  }
 },
 "nbformat": 4,
 "nbformat_minor": 5
}
